{
 "cells": [
  {
   "cell_type": "markdown",
   "metadata": {},
   "source": [
    "# [Think Python (e-book)](https://greenteapress.com/thinkpython2/html/index.html)\n",
    "\n",
    "## [Chapter 1](https://greenteapress.com/thinkpython2/html/thinkpython2002.html)\n",
    "\n",
    "I need to remember that the exponent operator in Python is `**`. The caret symbol is a bitwise operator.\n",
    "\n",
    "Thinking about bitwise operators is an interesting exercise in understanding how binary works. You can parse a binary number like `100010` by adding `2**n` for each `1`, where `n` is the number of digits to the right of it. (For the last digit, `2**0 == 1`.)\n",
    "\n",
    "The bitwise left shift operator `<<`, which moves all the digits left and adds a zero as the least significant (rightmost) digit, is thus equivalent to multiplying the integer by `2` (because it increases `n` by `1` for every digit). And the bitwise right shift operator `>>`, which drops the last (least significant) digit, is equivalent to floor dividing the integer by `2` (basically a base `2` rounding operation).\n",
    "\n",
    "Pretty fascinating stuff, and probably useful to know for leetcode interviews.\n",
    "\n",
    "## [Chapter 2](https://greenteapress.com/thinkpython2/html/thinkpython2003.html)\n",
    "\n"
   ]
  },
  {
   "cell_type": "markdown",
   "metadata": {},
   "source": []
  }
 ],
 "metadata": {
  "language_info": {
   "name": "python"
  }
 },
 "nbformat": 4,
 "nbformat_minor": 2
}
