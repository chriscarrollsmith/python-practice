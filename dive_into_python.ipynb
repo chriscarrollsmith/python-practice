{
 "cells": [
  {
   "cell_type": "markdown",
   "metadata": {},
   "source": [
    "# [Dive into Python 3](https://diveintopython3.problemsolving.io/)\n",
    "\n",
    "## [Chapter 1: Python Overview](https://diveintopython3.problemsolving.io/your-first-python-program.html)"
   ]
  },
  {
   "cell_type": "code",
   "execution_count": 2,
   "metadata": {},
   "outputs": [
    {
     "name": "stdout",
     "output_type": "stream",
     "text": [
      "1.0 TB\n",
      "931.3 GiB\n"
     ]
    }
   ],
   "source": [
    "SUFFIXES = {1000: ['KB', 'MB', 'GB', 'TB', 'PT', 'EB', 'ZB', 'YB'],\n",
    "1024: ['KiB', 'MiB', 'GiB', 'TiB', 'PiB', 'EiB', 'ZiB', 'YiB']}\n",
    "\n",
    "def approximate_size(size, a_kilobyte_is_1024_bytes=True):\n",
    "  '''Convert a file size to human-readable format.\n",
    "\n",
    "  Keyword arguments:\n",
    "  size -- file size in bytes\n",
    "  a_kilobyte_is_1024_bytes -- if True (default), use multiples of 1024\n",
    "                              if False, use multiples of 1000\n",
    "\n",
    "  Returns: string'''\n",
    "  if size < 0:\n",
    "    raise ValueError('number must be non-negative')\n",
    "  \n",
    "  multiple = 1024 if a_kilobyte_is_1024_bytes else 1000\n",
    "  for suffix in SUFFIXES[multiple]:\n",
    "    size /= multiple\n",
    "    if size < multiple:\n",
    "      return '{0:.1f} {1}'.format(size, suffix)\n",
    "\n",
    "print(approximate_size(1000000000000, False))\n",
    "print(approximate_size(1000000000000))"
   ]
  },
  {
   "cell_type": "markdown",
   "metadata": {},
   "source": [
    "### General basic points about Python:\n",
    "\n",
    "#### Whitespace is important\n",
    "\n",
    "- Python uses white space rather than delimiters to indicate code structure, so indentation is really important. A nice side-effect of this is it enforces readability.\n",
    "- An indent can be any number of spaces, but indentation must be consistent. Blank lines are ignored.\n",
    "\n",
    "#### Python is loosely typed\n",
    "\n",
    "- Python is loosely typed. Function definitions don't declare argument or return types, though they may give non-binding and unenforced type hints.\n",
    "\n",
    "#### Variables are initialized when you assign to them\n",
    "\n",
    "- Unlike some languages, Python doesn't make you declare a variable before assigning to it. It does this automatically upon assignment.\n",
    "\n",
    "#### Every function returns a value\n",
    "\n",
    "- Some languages distinguish functions (which return a value) from subroutines (which do not). This distinction doesn't exist in Python; all functions start with `def`.\n",
    "- Every Python function returns a value. If there's no `return` statement, it returns `None`.\n",
    "\n",
    "#### Arguments can be required or optional\n",
    "\n",
    "- To make a function argument optional, you assign a default value. Required arguments must be declared before optional ones.\n",
    "\n",
    "#### Docstrings are non-binding but very helpful\n",
    "\n",
    "- Docstrings, which explain function usage, are non-binding but made available by Python at runtime and are typically displayed by IDEs as a tooltip.\n",
    "- Triple quotes signify a multi-line string. Everything in the quotes is part of the string, including white space and carriage returns. They are commonly used for docstrings because they allow use of unescaped single and double quotes.\n",
    "\n",
    "#### Call functions with keyword or non-keyword args\n",
    "\n",
    "- You can call a function with non-keyword arguments (in sequence), or with keyword arguments (which are sequence-agnostic). You can also mix and match, but non-keyword arguments must precede keyword arguments in the function call.\n",
    "\n",
    "#### Everything in Python is a first-class object (can have attributes or methods and be assigned to a variable)\n",
    "\n",
    "- Everything in Python, including a function, is an object. All objects have attributes which are available at runtime. For instance, a function's docstring can be accessed like this: `approximate_size.__doc__`. (All functions have this built-in attribute.)\n",
    "- Once you import a module, like `import module`, you can access any of its *public* functions, classes, or attributes, with a period and a name: `module.function`.\n",
    "- Python defines objects loosely. Objects don't *have* to have attributes or methods, and not all objects are subclassable. \n",
    "- All Python objects, including modules, functions, classes, and class instances, can be assigned to a variable or passed as an argument. (In programming parlance, all Python objects are \"first-class objects.\")\n",
    "\n",
    "#### Python 'raises' 'exceptions' that must be 'handled'\n",
    "\n",
    "- Errors in Python are called 'exceptions' and triggered with the `raise` keyword (rather than 'throw' as in other languages). If a raised exception is 'unhandled', the program will stop.\n",
    "- Unfortunately, Python functions don't declare what exceptions they might raise, so you have to figure this out yourself.\n",
    "- Exception handling is done with `try...except` rather than 'catch' as in other languages.\n",
    "- Exceptions are implemented as classes, and raising an exception creates an instance of that class.\n",
    "- Exceptions can be handled at any level of the 'stack' of nested functions or classes in which they occur.\n",
    "\n",
    "### Import search in Python:\n",
    "\n",
    "- When you import something in Python, it checks all directories in sys.path. By default, this basically contains your current workspace folder, your Python executable folder, and any active virtual environment folder.\n",
    "- Import search will return `.py` files on the search path or standard library modules, which are written in C and don't have corresponding `.py` files.\n",
    "- **You can easily insert a new folder into sys.path with `sys.path.insert(0, '/dir/to/add')`.** This persists only until you quit Python (or stop the kernel). You typically want to insert a new path into first position in the list, so your modules will override any modules of the same name that turn up further down the list. **This trick is useful for testing code with older versions of dependency libraries.**"
   ]
  },
  {
   "cell_type": "code",
   "execution_count": 3,
   "metadata": {},
   "outputs": [
    {
     "data": {
      "text/plain": [
       "['c:\\\\Users\\\\chris\\\\OneDrive\\\\Documents\\\\Python\\\\practice',\n",
       " 'C:\\\\Users\\\\chris\\\\AppData\\\\Local\\\\Programs\\\\Python\\\\Python312\\\\python312.zip',\n",
       " 'C:\\\\Users\\\\chris\\\\AppData\\\\Local\\\\Programs\\\\Python\\\\Python312\\\\DLLs',\n",
       " 'C:\\\\Users\\\\chris\\\\AppData\\\\Local\\\\Programs\\\\Python\\\\Python312\\\\Lib',\n",
       " 'C:\\\\Users\\\\chris\\\\AppData\\\\Local\\\\Programs\\\\Python\\\\Python312',\n",
       " 'c:\\\\Users\\\\chris\\\\.virtualenvs\\\\practice-mD3pbIW8',\n",
       " '',\n",
       " 'c:\\\\Users\\\\chris\\\\.virtualenvs\\\\practice-mD3pbIW8\\\\Lib\\\\site-packages',\n",
       " 'c:\\\\Users\\\\chris\\\\.virtualenvs\\\\practice-mD3pbIW8\\\\Lib\\\\site-packages\\\\win32',\n",
       " 'c:\\\\Users\\\\chris\\\\.virtualenvs\\\\practice-mD3pbIW8\\\\Lib\\\\site-packages\\\\win32\\\\lib',\n",
       " 'c:\\\\Users\\\\chris\\\\.virtualenvs\\\\practice-mD3pbIW8\\\\Lib\\\\site-packages\\\\Pythonwin']"
      ]
     },
     "execution_count": 3,
     "metadata": {},
     "output_type": "execute_result"
    }
   ],
   "source": [
    "import sys\n",
    "sys.path\n",
    "# sys.path.insert(0, 'dir/to/add')"
   ]
  },
  {
   "cell_type": "markdown",
   "metadata": {},
   "source": [
    "#### ImportErrors and NameErrors\n",
    "\n",
    "- If you import a dependency that isn't installed, an ImportError exception is raised. Catching this error lets you run optional logic using the dependency—only if it's installed—without crashing the program.\n",
    "- Alternatively, you can revert to an alternative fallback dependency (and perhaps alias it with the same name).\n",
    "- If you try to access an unintialized variable, it raises a `NameError`. (Note that - Python is case-sensitive, so trying to access a variable with the wrong casing will throw a NameError.)"
   ]
  },
  {
   "cell_type": "code",
   "execution_count": 1,
   "metadata": {},
   "outputs": [
    {
     "name": "stdout",
     "output_type": "stream",
     "text": [
      "continue anyway\n"
     ]
    }
   ],
   "source": [
    "try:\n",
    "  import chardet\n",
    "except:\n",
    "  chardet = None\n",
    "\n",
    "if chardet:\n",
    "  print(\"do something\")\n",
    "else:\n",
    "  print(\"continue anyway\")\n",
    "\n",
    "try:\n",
    "  from lxml import etree\n",
    "except ImportError:\n",
    "  import xml.etree.ElementTree as etree"
   ]
  },
  {
   "cell_type": "markdown",
   "metadata": {},
   "source": [
    "#### Add a special conditional block for testing code\n",
    "\n",
    "- All modules have a built-in attribute `__name__`, which is relative to the top-level module being run. The top-level module is assigned the name '__main__'.\n",
    "- Add a conditional `if __name__ == '__main__':` block at the bottom of a `.py` file to execute code only when it is run as a standalone top-level module, and not when it is imported. This can be used for quick-and-dirty code testing, among other things."
   ]
  },
  {
   "cell_type": "markdown",
   "metadata": {},
   "source": [
    "## [Chapter 2: Native Datatypes](https://diveintopython3.problemsolving.io/native-datatypes.html)\n",
    "\n",
    "Python's main native data types:\n",
    "\n",
    "- `bool`: True/False\n",
    "- `int`: Integer, including 0, natural numbers N, and additive inverse -N\n",
    "- `float`: Decimal real number\n",
    "- `string`: Sequence of Unicode characters enclosed in quote marks\n",
    "- `bytearray`: Arbitrary data encodings, such as a jpeg image\n",
    "- `list`: Ordered, mutable sequence of values enclosed in square brackets\n",
    "- `tuple`: Ordered, immutable sequence of values enclosed in parentheses\n",
    "- `set`: Unordered bag of values enclosed in curly braces\n",
    "- `dict`: Unordered bag of key: value pairs enclosed in curly braces and joined with colons\n",
    "\n",
    "There are many other native data types, encompassing all the types of objects found in base Python, including `module`, `function`, `class`, `method`, `file`, and `compiled code`. (In fact, the other data types are basically all instances of `class`.)"
   ]
  },
  {
   "cell_type": "markdown",
   "metadata": {},
   "source": [
    "### Booleans\n",
    "\n",
    "- Booleans can take either of the constants True or False\n",
    "- Conditional expressions that resolve to a boolean are known as 'boolean contexts'\n",
    "- Booleans can be treated as numbers, with `True == 1` and `False == 0` (which makes it easy to count true values in an iterator by taking the `sum`)\n",
    "- In a boolean context, **anything** other than `0`, `0.0`, `[]`, or `()`, `False`, or `None` will evaluate as True"
   ]
  },
  {
   "cell_type": "code",
   "execution_count": 61,
   "metadata": {},
   "outputs": [
    {
     "name": "stdout",
     "output_type": "stream",
     "text": [
      "no, it's false\n",
      "no, it's false\n",
      "no, it's false\n",
      "no, it's false\n",
      "yes, it's true\n",
      "yes, it's true\n",
      "yes, it's true\n"
     ]
    }
   ],
   "source": [
    "def is_it_true(anything: any) -> None:\n",
    "  if anything:\n",
    "    print(\"yes, it's true\")\n",
    "  else:\n",
    "    print(\"no, it's false\")\n",
    "\n",
    "is_it_true(None)\n",
    "is_it_true([])\n",
    "is_it_true(())\n",
    "is_it_true(0)\n",
    "is_it_true([False])\n",
    "is_it_true(0.1)\n",
    "is_it_true(\"hello\")"
   ]
  },
  {
   "cell_type": "markdown",
   "metadata": {},
   "source": [
    "### Floats and Ints\n",
    "\n",
    "- Python distinguishes ints from floats by the absence or presence of a decimal\n",
    "- If you perform mathematical operations with a combination of ints and floats, Python will coerce them all to floats\n",
    "- Coercing a float to an int with `int()` will truncate the number, not round\n",
    "- Integers can be arbitrarily large, and Python 3 will dynamically decide how many storage bytes to use (unlike some other languages where you have to declare the storage size)\n",
    "- Floats are accurate to 15 decimal places"
   ]
  },
  {
   "cell_type": "markdown",
   "metadata": {},
   "source": [
    "### Mathematical operators\n",
    "\n",
    "- `/`: Floating point division, always returns a float\n",
    "- `//`: Floor division, returns an int or float (depending on the inputs) rounded down (e.g., -5.5 gets rounded to -6, *not* truncated to -5)\n",
    "- `**`: Raise to the power of\n",
    "- `%`: Modulo, returns the remainder after integer division"
   ]
  },
  {
   "cell_type": "markdown",
   "metadata": {},
   "source": [
    "### Fractions\n",
    "\n",
    "- To do fractions math, import `fractions` and instantiate a `Fraction` object with `fractions.Fraction(numerator, denominator)`.\n",
    "- You can use all the usual mathematical operators with fractions\n",
    "- Fractions are automatically reduced/simplified\n",
    "- You can't create a fraction with zero denominator"
   ]
  },
  {
   "cell_type": "code",
   "execution_count": 21,
   "metadata": {},
   "outputs": [
    {
     "data": {
      "text/plain": [
       "'7/12'"
      ]
     },
     "execution_count": 21,
     "metadata": {},
     "output_type": "execute_result"
    }
   ],
   "source": [
    "import fractions\n",
    "\n",
    "# Just for fun, define method to output string and add to the Fraction class\n",
    "fractions.Fraction.as_string = lambda self: str(self)\n",
    "\n",
    "# Subtract 3/4 from 4/3\n",
    "difference = fractions.Fraction(2,3) * 2 - fractions.Fraction(3/4)\n",
    "\n",
    "# Print the result\n",
    "difference.as_string()"
   ]
  },
  {
   "cell_type": "markdown",
   "metadata": {},
   "source": [
    "### Lists\n",
    "\n",
    "- Lists are like arrays in other languages, except that length and contents are mutable and don't have to be declared in advance\n",
    "- List items can be any data type, and a list can contain any combination of data types\n",
    "- There's no size limit other than available memory\n",
    "\n",
    "#### Subsetting lists\n",
    "\n",
    "- You can access list items using a numerical index counted either from the beginning, starting from 0, or from the end, starting from -1 (e.g., `some_list[3]` will get the fourth item)\n",
    "- You can slice a list using three integers separated by colons, like this: `some_list[start:end:step]`\n",
    "- The `start` index is inclusive, but the `end` index is exclusive (e.g., `some_list[0:2]` will get the items at indexes 0 and 1, but not the item at index 2)\n",
    "- The second colon and third value can be omitted to use a default step of 1 (e.g., `some_list[start:end]`)\n",
    "- You can omit the start value to slice from the beginning or the end value to slice through the end (e.g., `some_list[:]` will get the whole list)\n",
    "- Assigning a list to a new variable creates a reference to the original list, whereas slicing always creates a copy (so `some_list[:]` is a common shorthand for making a copy of a list)\n",
    "- Use a negative step value to reverse the list (e.g., `some_list[::-1]`)\n",
    "- With a negative step, the start index must be greater than the end index (e.g., `some_list[3:0:-1]` will get the items at indexes 3, 2, and 1, in that order)"
   ]
  },
  {
   "cell_type": "code",
   "execution_count": 46,
   "metadata": {},
   "outputs": [
    {
     "name": "stdout",
     "output_type": "stream",
     "text": [
      "First item: a\n",
      "last_item: example\n",
      "['a', 'b', 'james']\n",
      "['z', 'james', 'b']\n",
      "replacement_value != a\n"
     ]
    }
   ],
   "source": [
    "# Create a list\n",
    "some_list = ['a', 'b', 'james', 'z', 'example']\n",
    "\n",
    "# Subset list from the beginning\n",
    "print('First item: ' + some_list[0])\n",
    "\n",
    "# Subset list from the end\n",
    "print('last_item: ' + some_list[-1])\n",
    "\n",
    "# some_list[:n] always returns the first n items\n",
    "print(some_list[:3])\n",
    "\n",
    "# Slice the fourth, third, and second items, in that order\n",
    "print(some_list[3:0:-1])\n",
    "\n",
    "# Create a reference to some_list\n",
    "list_ref = some_list\n",
    "\n",
    "# Create a copy of some_list\n",
    "list_copy = some_list[:]\n",
    "\n",
    "# Modify some_list\n",
    "some_list[0] = 'replacement_value'\n",
    "\n",
    "# The reference has changed, but copy has not\n",
    "assert list_ref[0] != list_copy[0]\n",
    "print(list_ref[0] + ' != ' + list_copy[0])"
   ]
  },
  {
   "cell_type": "markdown",
   "metadata": {},
   "source": [
    "#### Modifying lists\n",
    "\n",
    "- You can change the value at a list index like `some_list[0] = some_value` (but this won't create a new list, so you have to already created it—e.g. `some_list = []`)\n",
    "- You can add to a list with the `+` operator, although this is memory-intensive because it creates a new list in memory before assignment\n",
    "- The `append` method of the `List` class adds a single item to the end of the list, which is done in-place (i.e. we can append to `some_list` without assigning the result back to `some_list`)\n",
    "- `append` is preferred for modifying lists, whereas `+` is good for creating a copy\n",
    "- The `insert` method adds a new item at a numerical index and bumps everything else down one position (e.g., `some_list.insert(0, 'hello')` inserts 'hello' at index zero and increments all other items' index by +1)\n",
    "- The `extend` method takes a list argument, unpacks it, and appends its contents to the list\n",
    "- The `del` keyword applied to a list item will delete the item and shift all subsequent items' indexes down by 1\n",
    "- The `remove` method deletes an item by value rather than by index (e.g., `some_list.remove('hi')` deletes the **first** value matching 'hi' from the list)\n",
    "- The `pop` method deletes an item by index (by default the last item) **and returns the removed value** (useful for treating list items as consumables to be crossed off the list after use)"
   ]
  },
  {
   "cell_type": "code",
   "execution_count": 51,
   "metadata": {},
   "outputs": [
    {
     "name": "stdout",
     "output_type": "stream",
     "text": [
      "Result with append:\n",
      "['hello', 'world,', ['I', 'am', 'Chris']]\n",
      "Result with extend:\n",
      "['hello', 'world,', 'I', 'am', 'Chris']\n",
      "Pop result: Chris\n"
     ]
    }
   ],
   "source": [
    "some_list = ['hello', 'world,']\n",
    "items_to_add = ['I', 'am', 'Chris']\n",
    "\n",
    "# Returns None; modifies list in-place\n",
    "some_list.append(items_to_add)\n",
    "print('Result with append:')\n",
    "print(some_list)\n",
    "\n",
    "del some_list[-1]\n",
    "\n",
    "# Returns None; modifies list in-place\n",
    "some_list.extend(items_to_add)\n",
    "print('Result with extend:')\n",
    "print(some_list)\n",
    "\n",
    "print('Pop result: ' + some_list.pop())"
   ]
  },
  {
   "cell_type": "markdown",
   "metadata": {},
   "source": [
    "#### Searching over lists\n",
    "\n",
    "- The `count` method counts how many times a value appears in a list (e.g., `some_list.count('hello')` counts list values matching 'hello')\n",
    "- The `in` keyword can be used to check for any matching value (e.g., `'hello' in some_list` returns True or False)\n",
    "- The `index` method returns the numerical index of the first occurrence of the value, and returns ValueError if there is no matching value in the list (can be called with optional inclusive start and exclusive stop indices, e.g. `some_list.index('hello', 0, 4))`)"
   ]
  },
  {
   "cell_type": "code",
   "execution_count": 60,
   "metadata": {},
   "outputs": [
    {
     "name": "stdout",
     "output_type": "stream",
     "text": [
      "False\n",
      "Value \"new\" not found in slice.\n"
     ]
    }
   ],
   "source": [
    "some_list = ['a', 'b', 'new', 'mpilgrim', 'new']\n",
    "\n",
    "# We could check for the presence of 'new' before calling `index``...\n",
    "print('new' in some_list[0:2])\n",
    "\n",
    "# But it's Easier to Ask Forgiveness than Permission (EAFP)\n",
    "try:\n",
    "  some_list.index('new', 0, 2)\n",
    "except ValueError:\n",
    "  print('Value \"new\" not found in slice.')"
   ]
  },
  {
   "cell_type": "markdown",
   "metadata": {},
   "source": [
    "### Tuples\n",
    "\n",
    "- Tuples are immutable lists, represented as comma-separated items enclosed in parentheses\n",
    "- You can index or slice or copy a tuple just like a list, but there are no methods for altering a tuple in-place, because a tuple can't be modified\n",
    "- Tuples are faster than lists, so they're preferable when you don't need to modify contents\n",
    "- Use a tuple to 'write protect' data to make your code safer\n",
    "- To create a tuple of one item, you need a comma after the value, or Python will assume you just have extra parentheses\n",
    "- You can 'unpack' a tuple by assigning it to an equally-sized tuple of the names of the variables you want to assign to"
   ]
  },
  {
   "cell_type": "code",
   "execution_count": 68,
   "metadata": {},
   "outputs": [
    {
     "name": "stdout",
     "output_type": "stream",
     "text": [
      "<class 'tuple'>\n",
      "<class 'str'>\n",
      "first value\n",
      "second_value\n",
      "first value\n",
      "first value\n"
     ]
    }
   ],
   "source": [
    "# This creates a tuple\n",
    "a_tuple = ('hello',)\n",
    "print(type(a_tuple))\n",
    "\n",
    "# This does not\n",
    "a_tuple = ('hello')\n",
    "print(type(a_tuple))\n",
    "\n",
    "# This unpacks a tuple into the variables val_1 and val_2\n",
    "(val_1, val_2) = ('first value', 'second_value')\n",
    "print(val_1)\n",
    "print(val_2)\n",
    "\n",
    "# Use with range to create constants with ordinal values\n",
    "(MONDAY, TUESDAY, WEDNESDAY, THURSDAY, FRIDAY, SATURDAY, SUNDAY) = range(7)\n",
    "\n",
    "# Note that tuple and list contents are copies, not references\n",
    "a_tuple = (val_1, val_2)\n",
    "a_list = [val_1, val_2]\n",
    "val_1 = 'adjusted_value'\n",
    "print(a_tuple[0])\n",
    "print(a_list[0])"
   ]
  }
 ],
 "metadata": {
  "kernelspec": {
   "display_name": "practice-mD3pbIW8",
   "language": "python",
   "name": "python3"
  },
  "language_info": {
   "codemirror_mode": {
    "name": "ipython",
    "version": 3
   },
   "file_extension": ".py",
   "mimetype": "text/x-python",
   "name": "python",
   "nbconvert_exporter": "python",
   "pygments_lexer": "ipython3",
   "version": "3.12.0"
  }
 },
 "nbformat": 4,
 "nbformat_minor": 2
}
