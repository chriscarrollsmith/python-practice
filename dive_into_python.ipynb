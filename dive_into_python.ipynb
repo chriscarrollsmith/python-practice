{
 "cells": [
  {
   "cell_type": "markdown",
   "metadata": {},
   "source": [
    "# [Dive into Python 3](https://diveintopython3.problemsolving.io/)\n",
    "\n",
    "## [Chapter 1: Python Overview](https://diveintopython3.problemsolving.io/your-first-python-program.html)"
   ]
  },
  {
   "cell_type": "code",
   "execution_count": 2,
   "metadata": {},
   "outputs": [
    {
     "name": "stdout",
     "output_type": "stream",
     "text": [
      "1.0 TB\n",
      "931.3 GiB\n"
     ]
    }
   ],
   "source": [
    "SUFFIXES = {1000: ['KB', 'MB', 'GB', 'TB', 'PT', 'EB', 'ZB', 'YB'],\n",
    "1024: ['KiB', 'MiB', 'GiB', 'TiB', 'PiB', 'EiB', 'ZiB', 'YiB']}\n",
    "\n",
    "def approximate_size(size, a_kilobyte_is_1024_bytes=True):\n",
    "  '''Convert a file size to human-readable format.\n",
    "\n",
    "  Keyword arguments:\n",
    "  size -- file size in bytes\n",
    "  a_kilobyte_is_1024_bytes -- if True (default), use multiples of 1024\n",
    "                              if False, use multiples of 1000\n",
    "\n",
    "  Returns: string'''\n",
    "  if size < 0:\n",
    "    raise ValueError('number must be non-negative')\n",
    "  \n",
    "  multiple = 1024 if a_kilobyte_is_1024_bytes else 1000\n",
    "  for suffix in SUFFIXES[multiple]:\n",
    "    size /= multiple\n",
    "    if size < multiple:\n",
    "      return '{0:.1f} {1}'.format(size, suffix)\n",
    "\n",
    "print(approximate_size(1000000000000, False))\n",
    "print(approximate_size(1000000000000))"
   ]
  },
  {
   "cell_type": "markdown",
   "metadata": {},
   "source": [
    "### General basic points about Python:\n",
    "\n",
    "#### Whitespace is important\n",
    "\n",
    "- Python uses white space rather than delimiters to indicate code structure, so indentation is really important. A nice side-effect of this is it enforces readability.\n",
    "- An indent can be any number of spaces, but indentation must be consistent. Blank lines are ignored.\n",
    "\n",
    "#### Python is loosely typed\n",
    "\n",
    "- Python is loosely typed. Function definitions don't declare argument or return types, though they may give non-binding and unenforced type hints.\n",
    "\n",
    "#### Variables are initialized when you assign to them\n",
    "\n",
    "- Unlike some languages, Python doesn't make you declare a variable before assigning to it. It does this automatically upon assignment.\n",
    "\n",
    "#### Every function returns a value\n",
    "\n",
    "- Some languages distinguish functions (which return a value) from subroutines (which do not). This distinction doesn't exist in Python; all functions start with `def`.\n",
    "- Every Python function returns a value. If there's no `return` statement, it returns `None`.\n",
    "\n",
    "#### Arguments can be required or optional\n",
    "\n",
    "- To make a function argument optional, you assign a default value. Required arguments must be declared before optional ones.\n",
    "\n",
    "#### Docstrings are non-binding but very helpful\n",
    "\n",
    "- Docstrings, which explain function usage, are non-binding but made available by Python at runtime and are typically displayed by IDEs as a tooltip.\n",
    "- Triple quotes signify a multi-line string. Everything in the quotes is part of the string, including white space and carriage returns. They are commonly used for docstrings because they allow use of unescaped single and double quotes.\n",
    "\n",
    "#### Call functions with keyword or non-keyword args\n",
    "\n",
    "- You can call a function with non-keyword arguments (in sequence), or with keyword arguments (which are sequence-agnostic). You can also mix and match, but non-keyword arguments must precede keyword arguments in the function call.\n",
    "\n",
    "#### Everything in Python is a first-class object (can have attributes or methods and be assigned to a variable)\n",
    "\n",
    "- Everything in Python, including a function, is an object. All objects have attributes which are available at runtime. For instance, a function's docstring can be accessed like this: `approximate_size.__doc__`. (All functions have this built-in attribute.)\n",
    "- Once you import a module, like `import module`, you can access any of its *public* functions, classes, or attributes, with a period and a name: `module.function`.\n",
    "- Python defines objects loosely. Objects don't *have* to have attributes or methods, and not all objects are subclassable. \n",
    "- All Python objects, including modules, functions, classes, and class instances, can be assigned to a variable or passed as an argument. (In programming parlance, all Python objects are \"first-class objects.\")\n",
    "\n",
    "#### Python 'raises' 'exceptions' that must be 'handled'\n",
    "\n",
    "- Errors in Python are called 'exceptions' and triggered with the `raise` keyword (rather than 'throw' as in other languages). If a raised exception is 'unhandled', the program will stop.\n",
    "- Unfortunately, Python functions don't declare what exceptions they might raise, so you have to figure this out yourself.\n",
    "- Exception handling is done with `try...except` rather than 'catch' as in other languages.\n",
    "- Exceptions are implemented as classes, and raising an exception creates an instance of that class.\n",
    "- Exceptions can be handled at any level of the 'stack' of nested functions or classes in which they occur.\n",
    "\n",
    "### Import search in Python:\n",
    "\n",
    "- When you import something in Python, it checks all directories in sys.path. By default, this basically contains your current workspace folder, your Python executable folder, and any active virtual environment folder.\n",
    "- Import search will return `.py` files on the search path or standard library modules, which are written in C and don't have corresponding `.py` files.\n",
    "- **You can easily insert a new folder into sys.path with `sys.path.insert(0, '/dir/to/add')`.** This persists only until you quit Python (or stop the kernel). You typically want to insert a new path into first position in the list, so your modules will override any modules of the same name that turn up further down the list. **This trick is useful for testing code with older versions of dependency libraries.**"
   ]
  },
  {
   "cell_type": "code",
   "execution_count": 3,
   "metadata": {},
   "outputs": [
    {
     "data": {
      "text/plain": [
       "['c:\\\\Users\\\\chris\\\\OneDrive\\\\Documents\\\\Python\\\\practice',\n",
       " 'C:\\\\Users\\\\chris\\\\AppData\\\\Local\\\\Programs\\\\Python\\\\Python312\\\\python312.zip',\n",
       " 'C:\\\\Users\\\\chris\\\\AppData\\\\Local\\\\Programs\\\\Python\\\\Python312\\\\DLLs',\n",
       " 'C:\\\\Users\\\\chris\\\\AppData\\\\Local\\\\Programs\\\\Python\\\\Python312\\\\Lib',\n",
       " 'C:\\\\Users\\\\chris\\\\AppData\\\\Local\\\\Programs\\\\Python\\\\Python312',\n",
       " 'c:\\\\Users\\\\chris\\\\.virtualenvs\\\\practice-mD3pbIW8',\n",
       " '',\n",
       " 'c:\\\\Users\\\\chris\\\\.virtualenvs\\\\practice-mD3pbIW8\\\\Lib\\\\site-packages',\n",
       " 'c:\\\\Users\\\\chris\\\\.virtualenvs\\\\practice-mD3pbIW8\\\\Lib\\\\site-packages\\\\win32',\n",
       " 'c:\\\\Users\\\\chris\\\\.virtualenvs\\\\practice-mD3pbIW8\\\\Lib\\\\site-packages\\\\win32\\\\lib',\n",
       " 'c:\\\\Users\\\\chris\\\\.virtualenvs\\\\practice-mD3pbIW8\\\\Lib\\\\site-packages\\\\Pythonwin']"
      ]
     },
     "execution_count": 3,
     "metadata": {},
     "output_type": "execute_result"
    }
   ],
   "source": [
    "import sys\n",
    "sys.path\n",
    "# sys.path.insert(0, 'dir/to/add')"
   ]
  },
  {
   "cell_type": "markdown",
   "metadata": {},
   "source": [
    "#### ImportErrors and NameErrors\n",
    "\n",
    "- If you import a dependency that isn't installed, an ImportError exception is raised. Catching this error lets you run optional logic using the dependency—only if it's installed—without crashing the program.\n",
    "- Alternatively, you can revert to an alternative fallback dependency (and perhaps alias it with the same name).\n",
    "- If you try to access an unintialized variable, it raises a `NameError`. (Note that - Python is case-sensitive, so trying to access a variable with the wrong casing will throw a NameError.)"
   ]
  },
  {
   "cell_type": "code",
   "execution_count": null,
   "metadata": {},
   "outputs": [],
   "source": [
    "try:\n",
    "  import chardet\n",
    "except:\n",
    "  chardet = None\n",
    "\n",
    "if chardet:\n",
    "  # do something\n",
    "else:\n",
    "  # continue anyway\n",
    "\n",
    "try:\n",
    "  from lxml import etree\n",
    "except ImportError:\n",
    "  import xml.etree.ElementTree as etree"
   ]
  },
  {
   "cell_type": "markdown",
   "metadata": {},
   "source": [
    "#### Add a special conditional block for testing code\n",
    "\n",
    "- All modules have a built-in attribute `__name__`, which is relative to the top-level module being run. The top-level module is assigned the name '__main__'.\n",
    "- Add a conditional `if __name__ == '__main__':` block at the bottom of a `.py` file to execute code only when it is run as a standalone top-level module, and not when it is imported. This can be used for quick-and-dirty code testing, among other things."
   ]
  },
  {
   "cell_type": "markdown",
   "metadata": {},
   "source": [
    "## [Chapter 2: Native Datatypes](https://diveintopython3.problemsolving.io/native-datatypes.html)"
   ]
  }
 ],
 "metadata": {
  "kernelspec": {
   "display_name": "practice-mD3pbIW8",
   "language": "python",
   "name": "python3"
  },
  "language_info": {
   "codemirror_mode": {
    "name": "ipython",
    "version": 3
   },
   "file_extension": ".py",
   "mimetype": "text/x-python",
   "name": "python",
   "nbconvert_exporter": "python",
   "pygments_lexer": "ipython3",
   "version": "3.12.0"
  }
 },
 "nbformat": 4,
 "nbformat_minor": 2
}
