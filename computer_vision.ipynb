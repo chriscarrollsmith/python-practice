{
 "cells": [
  {
   "cell_type": "markdown",
   "metadata": {},
   "source": [
    "# Computer vision\n",
    "\n",
    "## Capture and save all frames from a video with OpenCV\n",
    "\n",
    "Run `pip install opencv-python` to install opencv-python, record a video file using your default webcam, and save it to the project directory as `files/test.MOV`:"
   ]
  },
  {
   "cell_type": "code",
   "execution_count": 1,
   "metadata": {},
   "outputs": [],
   "source": [
    "import cv2\n",
    "import os\n",
    "import time\n",
    "\n",
    "# Recursively create the \"files/frames\" folder if it doesn't exist\n",
    "if not os.path.exists(\"files/frames\"):\n",
    "    os.makedirs(\"files/frames\")\n",
    "\n",
    "# Take a short video from webcam and save to files/test.MOV\n",
    "cap = cv2.VideoCapture(0)  # Open the default camera\n",
    "fourcc = cv2.VideoWriter_fourcc(*'XVID')  # Define the codec\n",
    "out = cv2.VideoWriter('files/test.MOV', fourcc, 20.0, (640, 480))  # Create VideoWriter object\n",
    "\n",
    "# Record for 5 seconds (or until 'q' is pressed)\n",
    "start_time = time.time()\n",
    "duration = 5  # Recording duration in seconds\n",
    "\n",
    "while True:\n",
    "    ret, frame = cap.read()\n",
    "    if not ret:\n",
    "        break\n",
    "    \n",
    "    # Check if we've exceeded the duration\n",
    "    if time.time() - start_time > duration:\n",
    "        break\n",
    "        \n",
    "    out.write(frame)\n",
    "    cv2.imshow('frame', frame)\n",
    "\n",
    "    if cv2.waitKey(1) & 0xFF == ord('q'):  # Press 'q' to exit early\n",
    "        break\n",
    "\n",
    "cap.release()  # Release the camera\n",
    "out.release()  # Release the video writer\n",
    "cv2.destroyAllWindows()  # Close all OpenCV windows\n"
   ]
  },
  {
   "cell_type": "markdown",
   "metadata": {},
   "source": [
    "You can load the video file into memory and save all frames to the `files/frames` folder:"
   ]
  },
  {
   "cell_type": "code",
   "execution_count": 2,
   "metadata": {},
   "outputs": [
    {
     "name": "stdout",
     "output_type": "stream",
     "text": [
      "Saved 133 frames to files/frames\n"
     ]
    }
   ],
   "source": [
    "import cv2\n",
    "import os\n",
    "\n",
    "# Open video file\n",
    "cap = cv2.VideoCapture(\"files/test.MOV\")\n",
    "\n",
    "# Frame counter\n",
    "count = 0\n",
    "\n",
    "while True:\n",
    "    ret, frame = cap.read()\n",
    "\n",
    "    if not ret:\n",
    "        break\n",
    "\n",
    "    # Save frame as PNG image\n",
    "    filename = f\"files/frames/frame_{count:04d}.png\"  # Pad with zeros (e.g., frame_0001.png)\n",
    "    cv2.imwrite(filename, frame)\n",
    "\n",
    "    count += 1\n",
    "\n",
    "cap.release()\n",
    "cv2.destroyAllWindows()\n",
    "\n",
    "print(f\"Saved {count} frames to files/frames\")"
   ]
  },
  {
   "cell_type": "markdown",
   "metadata": {},
   "source": [
    "Alternatively, here's how to capture and save a single frame from your web cam:"
   ]
  },
  {
   "cell_type": "code",
   "execution_count": 3,
   "metadata": {},
   "outputs": [
    {
     "name": "stdout",
     "output_type": "stream",
     "text": [
      "Frame saved as files/frames/frame1.png\n"
     ]
    }
   ],
   "source": [
    "import cv2\n",
    "import os\n",
    "\n",
    "# Capture a frame from the camera\n",
    "cap = cv2.VideoCapture(0)  # Open the default camera\n",
    "ret, frame = cap.read()    # Read a frame from the camera\n",
    "cap.release()              # Release the camera\n",
    "\n",
    "if frame is None:\n",
    "    print(\"Failed to load image\")\n",
    "\n",
    "# Specify the folder name where you want to save the frame\n",
    "folder_name = 'files/frames'\n",
    "\n",
    "# Check if the folder exists, if not, create it\n",
    "if not os.path.exists(folder_name):\n",
    "    os.makedirs(folder_name)\n",
    "\n",
    "# Specify the path and name of the file you want to save\n",
    "# For example, saving the image as frame1.png in the frames folder\n",
    "file_name = os.path.join(folder_name, 'frame1.png')\n",
    "\n",
    "# Save the frame as a .png image\n",
    "cv2.imwrite(file_name, frame)\n",
    "\n",
    "print(f'Frame saved as {file_name}')"
   ]
  },
  {
   "cell_type": "markdown",
   "metadata": {},
   "source": [
    "## Moondream AI, a small vision model that runs anywhere\n",
    "\n",
    "See [moondream.ai](https://moondream.ai) or the Github repo [here](https://github.com/vikhyat/moondream) for more information."
   ]
  },
  {
   "cell_type": "code",
   "execution_count": 6,
   "metadata": {},
   "outputs": [
    {
     "name": "stdout",
     "output_type": "stream",
     "text": [
      "Answer:   The image is not on a scale, so it's not possible to determine a temperature.\n"
     ]
    }
   ],
   "source": [
    "import os\n",
    "import moondream as md\n",
    "from PIL import Image\n",
    "import gzip\n",
    "import shutil\n",
    "\n",
    "model_links = {\n",
    "    \"moondream-2b-int8\": \"https://huggingface.co/vikhyatk/moondream2/resolve/9dddae84d54db4ac56fe37817aeaeb502ed083e2/moondream-2b-int8.mf.gz\",\n",
    "    \"moondream-2b-int4\": \"https://huggingface.co/vikhyatk/moondream2/resolve/9dddae84d54db4ac56fe37817aeaeb502ed083e2/moondream-2b-int4.mf.gz\",\n",
    "    \"moondream-0_5b-int8\": \"https://huggingface.co/vikhyatk/moondream2/resolve/9dddae84d54db4ac56fe37817aeaeb502ed083e2/moondream-0_5b-int8.mf.gz\",\n",
    "    \"moondream-0_5b-int4\": \"https://huggingface.co/vikhyatk/moondream2/resolve/9dddae84d54db4ac56fe37817aeaeb502ed083e2/moondream-0_5b-int4.mf.gz\",\n",
    "}\n",
    "\n",
    "model_to_use = \"moondream-0_5b-int8\"\n",
    "\n",
    "# Download and decompress the model if it doesn't exist\n",
    "if not os.path.exists(f\"./files/{model_to_use}.bin\"):\n",
    "    # Download the gzipped file\n",
    "    os.system(f\"wget {model_links[model_to_use]} -O ./files/{model_to_use}.mf.gz\")\n",
    "    \n",
    "    # Decompress the file\n",
    "    with gzip.open(f'./files/{model_to_use}.mf.gz', 'rb') as f_in:\n",
    "        with open(f'./files/{model_to_use}.bin', 'wb') as f_out:\n",
    "            shutil.copyfileobj(f_in, f_out)\n",
    "    \n",
    "    # Clean up the gzipped file\n",
    "    os.remove(f'./files/{model_to_use}.mf.gz')\n",
    "\n",
    "# initialize the downloaded model\n",
    "if not 'model' in locals():\n",
    "    model = md.vl(model=f\"./files/{model_to_use}.bin\")\n",
    "\n",
    "# process the image\n",
    "image = Image.open(\"./files/frames/frame1.png\")\n",
    "encoded = model.encode_image(image)\n",
    "\n",
    "# query the image\n",
    "result = model.query(encoded, \"On a scale from 1 to 10, how hot is the person in this image?\")\n",
    "print(\"Answer: \", result[\"answer\"])"
   ]
  }
 ],
 "metadata": {
  "kernelspec": {
   "display_name": "python-practice-FXyqCSqI",
   "language": "python",
   "name": "python3"
  },
  "language_info": {
   "codemirror_mode": {
    "name": "ipython",
    "version": 3
   },
   "file_extension": ".py",
   "mimetype": "text/x-python",
   "name": "python",
   "nbconvert_exporter": "python",
   "pygments_lexer": "ipython3",
   "version": "3.12.3"
  }
 },
 "nbformat": 4,
 "nbformat_minor": 2
}
