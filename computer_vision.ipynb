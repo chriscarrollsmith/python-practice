{
 "cells": [
  {
   "cell_type": "markdown",
   "metadata": {},
   "source": [
    "# Computer vision\n",
    "\n",
    "## Capture and save all frames from a video with OpenCV\n",
    "\n",
    "Run `pip install opencv-python` to install opencv-python, and save a video file to the project directory as `test.MOV`. You can then run the following code to capture and save all frames from the video:"
   ]
  },
  {
   "cell_type": "code",
   "execution_count": 3,
   "metadata": {},
   "outputs": [],
   "source": [
    "import cv2\n",
    "import os\n",
    "\n",
    "# Create the \"frames\" folder if it doesn't exist\n",
    "if not os.path.exists(\"frames\"):\n",
    "    os.mkdir(\"frames\")\n",
    "\n",
    "# Open video file (replace with your video path)\n",
    "cap = cv2.VideoCapture(\"test.MOV\")\n",
    "\n",
    "# Frame counter\n",
    "count = 0\n",
    "\n",
    "while True:\n",
    "    ret, frame = cap.read()\n",
    "\n",
    "    if not ret:\n",
    "        break\n",
    "\n",
    "    # Save frame as PNG image\n",
    "    filename = f\"frames/frame_{count:04d}.png\"  # Pad with zeros (e.g., frame_0001.png)\n",
    "    cv2.imwrite(filename, frame)\n",
    "\n",
    "    count += 1\n",
    "\n",
    "cap.release()\n",
    "cv2.destroyAllWindows()"
   ]
  },
  {
   "cell_type": "markdown",
   "metadata": {},
   "source": [
    "Alternatively, here's how to capture and save a snap from your web cam:"
   ]
  },
  {
   "cell_type": "code",
   "execution_count": 9,
   "metadata": {},
   "outputs": [
    {
     "name": "stdout",
     "output_type": "stream",
     "text": [
      "Frame saved as frames\\frame1.png\n"
     ]
    }
   ],
   "source": [
    "import cv2\n",
    "import os\n",
    "\n",
    "# Capture a frame from the camera\n",
    "cap = cv2.VideoCapture(0)  # Open the default camera\n",
    "ret, frame = cap.read()    # Read a frame from the camera\n",
    "cap.release()              # Release the camera\n",
    "\n",
    "if frame is None:\n",
    "    print(\"Failed to load image\")\n",
    "\n",
    "# Specify the folder name where you want to save the frame\n",
    "folder_name = 'frames'\n",
    "\n",
    "# Check if the folder exists, if not, create it\n",
    "if not os.path.exists(folder_name):\n",
    "    os.makedirs(folder_name)\n",
    "\n",
    "# Specify the path and name of the file you want to save\n",
    "# For example, saving the image as frame1.png in the frames folder\n",
    "file_name = os.path.join(folder_name, 'frame1.png')\n",
    "\n",
    "# Save the frame as a .png image\n",
    "cv2.imwrite(file_name, frame)\n",
    "\n",
    "print(f'Frame saved as {file_name}')"
   ]
  }
 ],
 "metadata": {
  "kernelspec": {
   "display_name": "python-practice-FXyqCSqI",
   "language": "python",
   "name": "python3"
  },
  "language_info": {
   "codemirror_mode": {
    "name": "ipython",
    "version": 3
   },
   "file_extension": ".py",
   "mimetype": "text/x-python",
   "name": "python",
   "nbconvert_exporter": "python",
   "pygments_lexer": "ipython3",
   "version": "3.12.0"
  }
 },
 "nbformat": 4,
 "nbformat_minor": 2
}
