{
 "cells": [
  {
   "cell_type": "markdown",
   "metadata": {},
   "source": [
    "# Quirky things you might not know about Python\n",
    "\n",
    "Most of the files in this repository are my notes on things other people have written, but this one is my own collection of random Python tricks and quirks.\n",
    "\n",
    "## Unpacking iterables\n",
    "\n",
    "You probably know that you can unpack tuples, but did you know that other iterables can be unpacked too? This is particularly useful when dealing with standard library functions or methods that return something other than a tuple, like this example with `split` (which returns a list):\n"
   ]
  },
  {
   "cell_type": "code",
   "execution_count": 5,
   "metadata": {},
   "outputs": [
    {
     "name": "stdout",
     "output_type": "stream",
     "text": [
      "0:1 in fraction form is 0/1\n"
     ]
    }
   ],
   "source": [
    "# Convert ratio to fraction\n",
    "ratio = \"0:1\"\n",
    "x, y = ratio.split(\":\")\n",
    "print(f\"{ratio} in fraction form is {x}/{y}\")"
   ]
  },
  {
   "cell_type": "markdown",
   "metadata": {},
   "source": [
    "There are lots of neat use cases for this. For example, suppose we have a function that takes a *lot* of inputs, and we'd like to be able to be able to pass it a tidy little iterable. We can use an asterisk to unpack the iterable into positional arguments when calling the function:"
   ]
  },
  {
   "cell_type": "code",
   "execution_count": 2,
   "metadata": {},
   "outputs": [
    {
     "name": "stdout",
     "output_type": "stream",
     "text": [
      "(555) 555-5555\n"
     ]
    }
   ],
   "source": [
    "# Print a formatted phone number string from a list of 9 digits\n",
    "n = [5,5,5,5,5,5,5,5,5,5]\n",
    "print(\"({}{}{}) {}{}{}-{}{}{}{}\".format(*n))"
   ]
  },
  {
   "cell_type": "markdown",
   "metadata": {},
   "source": [
    "Similarly, we can unpack a dictionary into keyword arguments by prepending double asterisks:"
   ]
  },
  {
   "cell_type": "code",
   "execution_count": 15,
   "metadata": {},
   "outputs": [
    {
     "name": "stdout",
     "output_type": "stream",
     "text": [
      "First thing, second thing, third thing."
     ]
    }
   ],
   "source": [
    "values = [\"First thing\", \"second thing\", \"third thing\"]\n",
    "keyword_args = {\"sep\": \", \", \"end\": \".\"}\n",
    "print(*values, **keyword_args)"
   ]
  },
  {
   "cell_type": "markdown",
   "metadata": {},
   "source": [
    "This is often used to \"pass through\" arbitrary function arguments. Say we want to create a decorator function to wrap other function calls with general-purpose logging or error handling logic. This decorator will be used with lots of different functions, so we don't know ahead of time what arguments (and keyword arguments) will be used.\n",
    "\n",
    "When we make our function call, Python serves the function itself to the decorator as its first argument. Additional positional arguments get packed into an `args` tuple, and keyword arguments into a `kwargs` dict. We unpack these and serve them to `wrapper`, which in turn unpacks its own `args` and `kwargs` and serves them to the function call."
   ]
  },
  {
   "cell_type": "code",
   "execution_count": 16,
   "metadata": {},
   "outputs": [
    {
     "name": "stdout",
     "output_type": "stream",
     "text": [
      "Executing add with args: (3, 5) and kwargs: {}\n",
      "Result: 8\n"
     ]
    }
   ],
   "source": [
    "def log_execution(func):\n",
    "    def wrapper(*args, **kwargs):\n",
    "        print(f\"Executing {func.__name__} with args: {args} and kwargs: {kwargs}\")\n",
    "        return func(*args, **kwargs)\n",
    "    return wrapper\n",
    "\n",
    "@log_execution\n",
    "def add(a, b):\n",
    "    return a + b\n",
    "\n",
    "result = add(3, 5)\n",
    "print(f\"Result: {result}\")"
   ]
  },
  {
   "cell_type": "markdown",
   "metadata": {},
   "source": [
    "Another common use case for unpacking is to flatten nested iterables. For instance, say we want to merge a couple of dictionaries while also supplying some missing values. We could do it like this:"
   ]
  },
  {
   "cell_type": "code",
   "execution_count": 17,
   "metadata": {},
   "outputs": [
    {
     "name": "stdout",
     "output_type": "stream",
     "text": [
      "{1: '1', 2: '2', 3: '3', 4: '4', 5: '5', 6: '6'}\n"
     ]
    }
   ],
   "source": [
    "a = {1: \"1\", 2: \"2\"}\n",
    "b = {5: \"5\", 6: \"6\"}\n",
    "\n",
    "print({**a, 3: \"3\", 4: \"4\", **b})"
   ]
  },
  {
   "cell_type": "markdown",
   "metadata": {},
   "source": [
    "## Mutable default arguments\n",
    "\n",
    "Almost everyone who learns Python gets burned at some point by this little quirk. Imagine you're writing a function `append_to` that appends an element `e` to a list `l`, with `l` as an optional argument and an empty list as the default. You might be tempted to initialize the default empty list in the function signature. We would expect calling `append_to(1)` to always return `[1]`, right? But look what happens when we call it twice:\n"
   ]
  },
  {
   "cell_type": "code",
   "execution_count": 2,
   "metadata": {},
   "outputs": [
    {
     "name": "stdout",
     "output_type": "stream",
     "text": [
      "[1]\n",
      "[1, 2]\n"
     ]
    }
   ],
   "source": [
    "def append_to(e, l=[]):\n",
    "    l.append(e)\n",
    "    return l\n",
    "\n",
    "print(append_to(1))\n",
    "print(append_to(2))\n"
   ]
  },
  {
   "cell_type": "markdown",
   "metadata": {},
   "source": [
    "However, notice that this is *not* what happens with \"immutable\" data types like `int` or `str`. If we initialize these variables to default values and then modify them inside the function, they get reset to the default the next time the function is called:"
   ]
  },
  {
   "cell_type": "code",
   "execution_count": 3,
   "metadata": {},
   "outputs": [
    {
     "name": "stdout",
     "output_type": "stream",
     "text": [
      "2\n",
      "2\n"
     ]
    }
   ],
   "source": [
    "def multiply_it(x, y = 1):\n",
    "  y = x * y\n",
    "  return y\n",
    "\n",
    "print(multiply_it(2))\n",
    "print(multiply_it(2))"
   ]
  },
  {
   "cell_type": "markdown",
   "metadata": {},
   "source": [
    "So why is the behavior different? Well, there are a couple important things to understand here. \n",
    "\n",
    "First, Python has \"mutable\" objects (e.g., lists, dicts, sets) and \"immutable\" ones (e.g., ints, strings), and the two categories of objects behave differently when passed to a function.\n",
    "\n",
    "- For memory efficiency, Python typically only stores one copy of any **immutable** object. Variables with the same immutable value will almost always point to the same location in memory. For example, if `a` and `b` both equal 1, they will have the same [id](https://www.w3schools.com/python/ref_func_id.asp). If I change the value of one of these variables (e.g., `a += 1`), I'm not actually modifying the object it pointed to; that object is immutable and cannot be changed. Rather, I'm telling the variable that it now points to a new/different immutable object at a different memory address."
   ]
  },
  {
   "cell_type": "code",
   "execution_count": 48,
   "metadata": {},
   "outputs": [
    {
     "name": "stdout",
     "output_type": "stream",
     "text": [
      "id of the integer '1': 140736354896312\n",
      "id of 'a' in parent scope: 140736354896312\n",
      "id of 'a' in function scope: 140736354896312\n",
      "id of 'b' in function scope: 140736354896312\n",
      "id of 'a' after incrementing: 140736354896344\n"
     ]
    }
   ],
   "source": [
    "print(f\"id of the integer '1': {id(1)}\")\n",
    "\n",
    "a = 1\n",
    "\n",
    "print(f\"id of 'a' in parent scope: {id(a)}\")\n",
    "\n",
    "def a_func(a, b = 1):\n",
    "  print(f\"id of 'a' in function scope: {id(a)}\")\n",
    "  print(f\"id of 'b' in function scope: {id(b)}\")\n",
    "\n",
    "a_func(a)\n",
    "\n",
    "a += 1\n",
    "\n",
    "print(f\"id of 'a' after incrementing: {id(a)}\")"
   ]
  },
  {
   "cell_type": "markdown",
   "metadata": {},
   "source": [
    "- **Mutable** objects are more complicated, however. Since these mutable objects might be very large, Python generally prefers to change them \"in place\"—by tweaking the object at the original memory address—rather than by creating an entire new modified copy of the object at a new address, as we would with an immutable object. For the same reason, Python's default behavior is to pass them \"by reference\" in assignment operations, function calls, and function return statements. In other words, a variable passed to the function from the parent scope, the variable inside the function, and the variable returned from the function will all point to the same object in memory. A consequence of this handling of mutable objects is that *in-place changes made to a mutable object inside a function also affect the object in the parent scope* (since they both point to the same memory address)."
   ]
  },
  {
   "cell_type": "code",
   "execution_count": 52,
   "metadata": {},
   "outputs": [
    {
     "name": "stdout",
     "output_type": "stream",
     "text": [
      "Value of 'a' in parent scope: [1]\n",
      "Value of 'a' in parent scope after in-place 'append' inside function: [1, 2]\n"
     ]
    }
   ],
   "source": [
    "a = [1]\n",
    "\n",
    "print(f\"Value of 'a' in parent scope: {a}\")\n",
    "\n",
    "def append_to(e, l):\n",
    "  l.append(e)\n",
    "\n",
    "append_to(2, a)\n",
    "\n",
    "print(f\"Value of 'a' in parent scope after in-place 'append' inside function: {a}\")"
   ]
  },
  {
   "cell_type": "markdown",
   "metadata": {},
   "source": [
    "The second thing that needs to be understood in order to grasp the weird behavior of mutable default arguments is exactly when, how, and where the default value is constructed.\n",
    "\n",
    "- **When**: Any code in the function signature's default arguments is evaluated *when the function is initialized*, not every time it's run.\n",
    "- **How**: When you execute the code to create a function, the function is created as an *object*, and its default values are *bound to the object* (under its `__defaults__` attribute).\n",
    "- **Where**: This means that, just like any other mutable object you might pass to the function, the default mutable object exists *in the parent scope*, and any in-place modifications of the object inside the function will also change it persistently in the parent scope."
   ]
  },
  {
   "cell_type": "code",
   "execution_count": 60,
   "metadata": {},
   "outputs": [
    {
     "name": "stdout",
     "output_type": "stream",
     "text": [
      "In parent scope before calling function:\n",
      "- Default value of 'l' bound to function object: []\n",
      "- id of default value of 'l' bound to function object: 2423913173504\n",
      "Inside function:\n",
      "- Value of 'l' after append: [1]\n",
      "- id of 'l' after append: 2423913173504\n",
      "In parent scope after calling function:\n",
      "- Default value of 'l' bound to function object: [1]\n",
      "- id of default value of 'l' bound to function object: 2423913173504\n"
     ]
    }
   ],
   "source": [
    "def append_to(e, l = []):\n",
    "  l.append(e)\n",
    "  print(\"Inside function:\")\n",
    "  print(f\"- Value of 'l' after append: {l}\")\n",
    "  print(f\"- id of 'l' after append: {id(l)}\")\n",
    "\n",
    "print(\"In parent scope before calling function:\")\n",
    "print(f\"- Default value of 'l' bound to function object: {append_to.__defaults__[0]}\")\n",
    "print(f\"- id of default value of 'l' bound to function object: {id(append_to.__defaults__[0])}\")\n",
    "\n",
    "append_to(1)\n",
    "\n",
    "print(\"In parent scope after calling function:\")\n",
    "print(f\"- Default value of 'l' bound to function object: {append_to.__defaults__[0]}\")\n",
    "print(f\"- id of default value of 'l' bound to function object: {id(append_to.__defaults__[0])}\")"
   ]
  },
  {
   "cell_type": "markdown",
   "metadata": {},
   "source": [
    "How, then, should we handle the case where we want an optional argument that initializes a new empty mutable object every time a user calls the function without specifying an input for the argument? The standard approach is to make the default value `None`, and then initialize an empty object inside the function body if the argument is `None`."
   ]
  },
  {
   "cell_type": "code",
   "execution_count": 61,
   "metadata": {},
   "outputs": [
    {
     "name": "stdout",
     "output_type": "stream",
     "text": [
      "id of 'l' inside function: 2423912764096\n",
      "id of 'l' returned from function: 2423912764096\n"
     ]
    }
   ],
   "source": [
    "def append_to(e, l = None):\n",
    "  if l is None:\n",
    "    l = []\n",
    "  l.append(e)\n",
    "  print(f\"id of 'l' inside function: {id(l)}\")\n",
    "  return l\n",
    "\n",
    "l = append_to(1)\n",
    "print(f\"id of 'l' returned from function: {id(l)}\")"
   ]
  },
  {
   "cell_type": "markdown",
   "metadata": {},
   "source": [
    "Note, however, that we usually return `None` from a function that modifies a mutable object \"in place\" (to avoid implying that it returns a copy), but we have to break that pattern in the above workaround. Returning the object from the function is perfectly valid, but it's considered bad *style*.\n",
    "\n",
    "The more idiomatic (a.k.a Pythonic) solution would be to make the mutable argument non-optional (i.e., supply no default value) and require users to initialize an empty mutable object in the calling context and pass it to the function."
   ]
  },
  {
   "cell_type": "code",
   "execution_count": 64,
   "metadata": {},
   "outputs": [
    {
     "name": "stdout",
     "output_type": "stream",
     "text": [
      "[1]\n"
     ]
    }
   ],
   "source": [
    "l = []\n",
    "\n",
    "def append_to(e, l):\n",
    "  l.append(e)\n",
    "\n",
    "append_to(1, l)\n",
    "print(l)"
   ]
  },
  {
   "cell_type": "markdown",
   "metadata": {},
   "source": [
    "Your other option is to avoid doing \"in-place\" operations on the mutable default argument and instead *copy* it, then modify and return the copy. There are lots of ways to do this. Mutable objects generally have a `.copy()` method that will return a copy rather than a reference to the object. Or you can append to a list with the `+` operator, slice a list with `[:]`, or use any other method or operator that returns a copy instead of modifying in place. Just keep in mind that this can be quite computationally expensive if the object you're copying is really big."
   ]
  },
  {
   "cell_type": "code",
   "execution_count": 1,
   "metadata": {},
   "outputs": [
    {
     "name": "stdout",
     "output_type": "stream",
     "text": [
      "[1]\n",
      "[2]\n"
     ]
    }
   ],
   "source": [
    "def appended_to(e, l = []):\n",
    "    new_l = l.copy()\n",
    "    new_l.append(e)\n",
    "    return new_l\n",
    "\n",
    "print(appended_to(1))\n",
    "print(appended_to(2))"
   ]
  },
  {
   "cell_type": "markdown",
   "metadata": {},
   "source": [
    "## Returning the last evaluated operand\n",
    "\n",
    "Unlike some languages where logical operators always return `True` or `False`, Python's \"and\" returns the last evaluated operand. Usually this doesn't change code behavior all that much, because if we're expecting a boolean return value, any truthy return value is still going to evaluate as truthy and trigger whatever logic `True` would have. However, it might trip you up if you're doing strict type checking with mypy and expect your return value to be boolean.\n",
    "\n",
    "Normally no one uses this much in production code, because it's not very readable, but it can be a fun and surprising trick for impressing people with your \"code golf\" skills (solving problems with the smallest possible number of characters). For instance, check out this simple function to return the text of a tweet only if it's less than 140 characters, and otherwise to return `False`. Most people would expect this function call to print `True`!"
   ]
  },
  {
   "cell_type": "code",
   "execution_count": 15,
   "metadata": {},
   "outputs": [
    {
     "name": "stdout",
     "output_type": "stream",
     "text": [
      "Hello world!\n"
     ]
    }
   ],
   "source": [
    "tweet_it = lambda s: len(s) <= 140 and s\n",
    "\n",
    "print(tweet_it(\"Hello world!\")) # Not a bool!"
   ]
  },
  {
   "cell_type": "markdown",
   "metadata": {},
   "source": [
    "This behavior is much more intuitive with the `or` operator, which works the same way. We can use this behavior to return a variable only if it's truthy, and otherwise to return something else (like a default return value, `False`, or `-1`):"
   ]
  },
  {
   "cell_type": "code",
   "execution_count": 4,
   "metadata": {},
   "outputs": [
    {
     "name": "stdout",
     "output_type": "stream",
     "text": [
      "valid string\n",
      "default return value\n"
     ]
    }
   ],
   "source": [
    "def non_empty_string(s) -> str:\n",
    "  \"\"\"Return the string if it's non-empty; else return a default non-empty string\"\"\"\n",
    "  return s or \"default return value\"\n",
    "\n",
    "print(non_empty_string(\"valid string\"))\n",
    "print(non_empty_string(\"\"))"
   ]
  },
  {
   "cell_type": "markdown",
   "metadata": {},
   "source": [
    "Since we've used a logical operator in the `return` statement of the `non_empty_string` function, you might expect the function to return a boolean. In fact, since \"default return value\" is truthy, you'd think the function would always return `True`! But that's not how logical tests in Python work.\n",
    "\n",
    "Instead, the logical test returns the last evaluated operand. If `s` evaluates as truthy, then the logical test stops there and returns `s`. Otherwise, it returns the next operand: \"default return value\".\n",
    "\n",
    "Once you get the hang of it, this behavior makes it really easy and intuitive to always return some fallback value if your calculated return value is falsy. Note that the fallback value will always be returned from the function, regardless of whether it's truthy or falsy. Our \"default return value\" is truthy, but we could just as easily have returned a falsy value like `0` or `[]` by placing it after the `or`."
   ]
  },
  {
   "cell_type": "markdown",
   "metadata": {},
   "source": [
    "## The walrus operator\n",
    "\n",
    "Here's another goofy Python trick that's mostly useful in the context of \"code golf\": performing both assignment and evaluation in one step with the \"walrus operator\" (`:=`). Again, you wouldn't do this in most production contexts. Heck, it violates a basic principle of code style: the separation of concerns. It's cool, though.\n",
    "\n",
    "Imagine we want to write a one-liner that transforms a string and then validates and returns the output. Normally this would require performing the transformation twice (to avoid creating a separate line for the assignment operation), but the walrus operator lets us perform assignment in the middle of a line:"
   ]
  },
  {
   "cell_type": "code",
   "execution_count": 19,
   "metadata": {},
   "outputs": [
    {
     "name": "stdout",
     "output_type": "stream",
     "text": [
      "#HelloWorld\n"
     ]
    }
   ],
   "source": [
    "def generate_hashtag(s):\n",
    "    return 1 < len(h := \"#\" + \"\".join(c for c in s.title() if c.isalpha())) <= 140 and h\n",
    "\n",
    "print(generate_hashtag(\"hello world?\"))"
   ]
  },
  {
   "cell_type": "markdown",
   "metadata": {},
   "source": [
    "This solution will get a lot of Python programmers asking, \"What am I even looking at?,\" which is always fun. :) Since the code inside the `len` function is evaluated before the code outside it, our assignment to `h` using the walrus operator affects the return value of `h` outside of `len` on the same line!"
   ]
  }
 ],
 "metadata": {
  "kernelspec": {
   "display_name": "python-practice-FXyqCSqI",
   "language": "python",
   "name": "python3"
  },
  "language_info": {
   "codemirror_mode": {
    "name": "ipython",
    "version": 3
   },
   "file_extension": ".py",
   "mimetype": "text/x-python",
   "name": "python",
   "nbconvert_exporter": "python",
   "pygments_lexer": "ipython3",
   "version": "3.12.0"
  }
 },
 "nbformat": 4,
 "nbformat_minor": 2
}
