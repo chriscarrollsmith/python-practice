{
 "cells": [
  {
   "cell_type": "markdown",
   "metadata": {},
   "source": [
    "# [Django 5.0 Documentation](https://docs.djangoproject.com/en/5.0/intro/overview/), as of April 14, 2024\n",
    "\n",
    "## [Overview](https://docs.djangoproject.com/en/5.0/intro/overview/)\n",
    "\n",
    "Meant for full-stack, database-connected web applications such as blogs or news websites, Django provides systems for URL routing, HTML templating, view-generation, and object-relational mapping—translating between table rows in your database and Python class/model objects."
   ]
  },
  {
   "cell_type": "markdown",
   "metadata": {},
   "source": [
    "# Installation and file structure\n",
    "\n",
    "## Creating a project\n",
    "\n",
    "To create a Django project, you typically create a root folder for your project, cd into the root folder, set up a virtual environment with your preferred version control software, and then [install django](https://docs.djangoproject.com/en/5.0/intro/install/). E.g.,\n",
    "\n",
    "```bash\n",
    "# Create and navigate to 'myproject' directory\n",
    "mkdir myproject && cd myproject\n",
    "# Create and activate a virtual environment with poetry\n",
    "poetry init --no-interaction && poetry shell\n",
    "# Install Django\n",
    "poetry add django\n",
    "```\n",
    "\n",
    "This will install not only the Django Python library, but also the django-admin CLI tool. Now, in the project root directory, we can use it to [set up the file system and development server for our project](https://docs.djangoproject.com/en/5.0/intro/tutorial01/):\n",
    "\n",
    "```bash\n",
    "django-admin startproject myproject .\n",
    "```\n",
    "\n",
    "This command will create `manage.py` in the project root folder. It will also create a `myproject` subfolder, with `__init.py__`, `asgi.py`, `settings.py`, `urls.py`, and `wsgi.py`.\n",
    "\n",
    "The structure of a Django project is a bit unusual, because the framework is designed to support multiple applications within a single project. Unlike other frameworks, the `myproject` folder is *not* where you put your application source code! This is instead a dedicated folder for project-level Django admin files that control URL routing (`urls.py`), Django project settings (`settings.py`), and ASGI/WSGI servers.\n",
    "\n",
    "```\n",
    "myproject/\n",
    "├── manage.py\n",
    "└── myproject/\n",
    "    ├── __init__.py\n",
    "    ├── asgi.py\n",
    "    ├── settings.py\n",
    "    ├── urls.py\n",
    "    └── wsgi.py\n",
    "```\n",
    "\n",
    "Our source code will instead go in an application folder.\n",
    "\n",
    "## [Creating an application](https://docs.djangoproject.com/en/5.0/intro/tutorial01/)\n",
    "\n",
    "Now that we've created our project, we need to set up at least on application folder within the project where our application source code will go. To set up an application folder, we will navigate to the project root folder and use the following terminal command. (Note that `manage.py` is the entry point for project-level Django CLI commands.)\n",
    "\n",
    "```bash\n",
    "python manage.py startapp myapp\n",
    "```\n",
    "\n",
    "This command creates a `myapp` folder with the files `admin.py`, `apps.py`, `models.py`, `tests.py`, and `views.py`. Tests, templates, and database migrations will mostly be defined at the application level and will go in this `myapp` folder (though any test or template resources that are shared across multiple applications could go in the project root). Thus, the file structure of a single-application Django project might look like this:\n",
    "\n",
    "```\n",
    "myproject/\n",
    "├── manage.py\n",
    "├── myproject/\n",
    "│   ├── __init__.py\n",
    "│   ├── asgi.py\n",
    "│   ├── settings.py\n",
    "│   ├── urls.py\n",
    "│   └── wsgi.py\n",
    "└── myapp/\n",
    "    ├── __init__.py\n",
    "    ├── admin.py\n",
    "    ├── apps.py\n",
    "    ├── models.py\n",
    "    ├── tests/\n",
    "    │   ├── __init__.py\n",
    "    │   ├── test_models.py\n",
    "    │   ├── test_views.py\n",
    "    │   └── test_forms.py\n",
    "    ├── views.py\n",
    "    ├── forms.py\n",
    "    ├── urls.py\n",
    "    ├── migrations/\n",
    "    │   └── __init__.py\n",
    "    └── templates/\n",
    "        └── index.html\n",
    "```\n",
    "\n",
    "While we will discuss URL routing in more detail later, it's important to note here that before you can use your application, you will need to \"include\" the application-level URL routes in the project-level `url.py` file. To do this, we'd open up `myproject/urls.py` and add a `path` with an `include` function referencing the location of our application's `urls.py` file in the `urlpatterns` list:"
   ]
  },
  {
   "cell_type": "code",
   "execution_count": null,
   "metadata": {},
   "outputs": [],
   "source": [
    "# myproject/urls.py\n",
    "from django.contrib import admin\n",
    "from django.urls import include, path # Add `include` import\n",
    "\n",
    "urlpatterns = [\n",
    "    path(\"myapp/\", include(\"myapp.urls\")), # Add this path\n",
    "    path(\"admin/\", admin.site.urls),\n",
    "]"
   ]
  },
  {
   "cell_type": "markdown",
   "metadata": {},
   "source": [
    "You will also need to define at least one valid view in `myapp/views.py`. For example,"
   ]
  },
  {
   "cell_type": "code",
   "execution_count": null,
   "metadata": {},
   "outputs": [],
   "source": [
    "# myapp/views.py\n",
    "from django.http import HttpResponse\n",
    "\n",
    "def index(request):\n",
    "    return HttpResponse(\"Hello, world.\")"
   ]
  },
  {
   "cell_type": "markdown",
   "metadata": {},
   "source": [
    "You should now be able to run your development server with this terminal command:\n",
    "\n",
    "```bash\n",
    "python manage.py runserver\n",
    "```\n",
    "\n",
    "This will serve a 'Hello, world' page at `http://localhost:8000/myapp/`, which you can navigate to in your web browser."
   ]
  },
  {
   "cell_type": "markdown",
   "metadata": {},
   "source": [
    "## [Object-relational mapping in Django](https://docs.djangoproject.com/en/5.0/intro/overview/)\n",
    "\n",
    "The heart of Django is really its object-relational mapping system.\n",
    "\n",
    "Much like a Pydantic or sqlalchemy model, you import Django's base `Model` class and any necessary field or constraint classes (e.g., `CharField`, `ForeignKey`, or `CASCADE`) from `django.db.models`. Then then you declare your table row class as a subclass of `Model`, and you define it to match your database schema. Since Django uses the `__str__` method to represent records in logging console outputs, you might also want to overwrite the string method to return some informative field representing the record.\n",
    "\n",
    "For example,"
   ]
  },
  {
   "cell_type": "code",
   "execution_count": null,
   "metadata": {},
   "outputs": [],
   "source": [
    "from django.db import models\n",
    "\n",
    "# Object representing a `reporters` table with a single character field\n",
    "class Reporter(models.Model):\n",
    "    full_name = models.CharField(max_length=70)\n",
    "\n",
    "    # Enables Django to print, e.g., `<QuerySet [<Reporter: John Smith>]>` when logging query results\n",
    "    def __str__(self):\n",
    "        return self.full_name\n",
    "\n",
    "# Object representing an `articles` table with 3 fields and cascade-delete fkey constraint\n",
    "class Article(models.Model):\n",
    "    pub_date = models.DateField()\n",
    "    headline = models.CharField(max_length=200)\n",
    "    content = models.TextField()\n",
    "    reporter = models.ForeignKey(Reporter, on_delete=models.CASCADE)"
   ]
  },
  {
   "cell_type": "markdown",
   "metadata": {},
   "source": [
    "The Model class represents the table, whereas individual class instances represent individual rows or records.\n",
    "\n",
    "Individual rows or records—class instances—may be stored in the `objects` attribute of the class, although you have to explicitly call the `save` method on the instance to do so. For instance, assuming we initiate the record object `r = Reporter(full_name=\"John Smith\")`, we must then save the record to the table with `r.save()`. By default, any new table's primary key is `id`. Given a record `r`, we can get its id with `r.id()`. We can delete it with `r.delete()`.\n",
    "\n",
    "Once we've saved some records to the table's `objects` attribute, we can use that attribute's powerful lookup API to retrieve records from the table. For instance, `Reporter.objects.all()` returns all records. More commonly, we will use the `objects.get` or `objects.filter` methods, to which we pass arguments of the pattern `field_name__lookup_method=some_value`. The `get` method returns exactly one record (or raises `DoesNotExist` or `MultipleObjectsReturned` exceptions), while `filter` returns a list of records."
   ]
  },
  {
   "cell_type": "code",
   "execution_count": null,
   "metadata": {},
   "outputs": [],
   "source": [
    "Reporter.objects.get(id=1)\n",
    "Reporter.objects.get(full_name__startswith=\"John\")\n",
    "Reporter.objects.filter(full_name__contains=\"mith\")"
   ]
  },
  {
   "cell_type": "markdown",
   "metadata": {},
   "source": [
    "If we define Django models in `models.py`, we can then generate automatic SQL migrations to run against our database with the `makemigrations` CLI command:\n",
    "\n",
    "```bash\n",
    "python manage.py makemigrations\n",
    "python manage.py migrate\n",
    "```\n",
    "\n",
    "We can also generate Django models dynamically from our database or test their consistency with the database with the `inspectdb` extension from `django-extensions`. For instance, to write database models to `models.py`:\n",
    "\n",
    "```bash\n",
    "python manage.py inspectdb > models.py\n",
    "```"
   ]
  },
  {
   "cell_type": "markdown",
   "metadata": {},
   "source": [
    "## URL routing\n",
    "\n",
    "In Django, you create a `URLconf` to define your routing system. This maps URL patterns to Python callback functions. For instance, we might have a `news/url.py` file with this `URLconf`:"
   ]
  },
  {
   "cell_type": "code",
   "execution_count": null,
   "metadata": {},
   "outputs": [],
   "source": [
    "from django.urls import path\n",
    "\n",
    "from . import views\n",
    "\n",
    "urlpatterns = [\n",
    "    path(\"articles/<int:year>/\", views.year_archive),\n",
    "    path(\"articles/<int:year>/<int:month>/\", views.month_archive),\n",
    "    path(\"articles/<int:year>/<int:month>/<int:pk>/\", views.article_detail),\n",
    "]"
   ]
  },
  {
   "cell_type": "markdown",
   "metadata": {},
   "source": [
    "The URL route parameters are retrieved and passed to the callback as function arguments, and the callback function uses these arguments to retrieve and serve a database record. If the user requests `/articles/2005/05/39323/`, Django calls the function `news.views.article_detail(request, year=2005, month=5, pk=39323)`, and the function generates a view for the corresponding article."
   ]
  },
  {
   "cell_type": "markdown",
   "metadata": {},
   "source": [
    "## Views\n",
    "\n",
    "Views in Django are defined by Python callback functions that return either an `HttpResponse` object or an http exception.\n",
    "\n",
    "Typically, the callback function retrieves information from the database, performs any desired arbitrary transformations using Python code, and then uses that retrieved/transformed data as context to render and return an HTML template.\n",
    "\n",
    "For instance,"
   ]
  },
  {
   "cell_type": "code",
   "execution_count": null,
   "metadata": {},
   "outputs": [],
   "source": [
    "from django.shortcuts import render\n",
    "\n",
    "def year_archive(request, year):\n",
    "    a_list = Article.objects.filter(pub_date__year=year)\n",
    "    context = {\"year\": year, \"article_list\": a_list}\n",
    "    return render(request, \"news/year_archive.html\", context)"
   ]
  },
  {
   "cell_type": "markdown",
   "metadata": {},
   "source": [
    "## HTML Templating\n",
    "\n",
    "### Templating file system\n",
    "\n",
    "In your Django settings, you specify a templates directory with `DIRS`. For instance, we might specify a `templates` directory.\n",
    "\n",
    "In the `return` statement of a view's callback function, you specify the path of the template you want to use to render the view. The path is relative to the `templates` directory specified in `DIRS`.\n",
    "\n",
    "So if you return a view with `return render(request, \"news/year_archive.html\", context)`, the view will be rendered with the template located at `news/year_archive.html`.\n",
    "\n",
    "The templating system is non-mandatory, so you can use a different system if you prefer, although Django templating is well-integrated with the Django object-relational mapping API.\n",
    "\n",
    "### Template formatting/syntax\n",
    "\n",
    "- You can load your static assets to a template with `{% load static %}` and access them like `{% static 'images/sitelogo.png' %}`.\n",
    "- In a template, you surround variables with double braces: `{{ article.headline }}`. \n",
    "- You use dots not only to access object attributes, but also to access dictionary values by key and list items by index.\n",
    "- You use Unix pipes (`|`) to apply an output filter or format tag to a variable (e.g., `{{ article.pub_date|date:\"F j, Y\" }}` outputs \"Text Month, int day, four-digit year\" per [PHP date format syntax](https://www.php.net/manual/en/datetime.format.php)). \n",
    "- You can chain pipes together, and you can define custom filters and tags that run arbitrary Python code.\n",
    "- You can do loops like `{% for article in article_list %}<p>{{ article.headline }}</p>{% endfor %}`.\n",
    "\n",
    "### Template inheritance\n",
    "\n",
    "- Django uses \"template inheritance\". At the top of a template, you specify the `DIRS` template to inherit from, like `{% extends \"base.html\" %}`.\n",
    "- In the parent template, you define an empty named block like `{% block title %}{% endblock %}`, and in the child template you define a block of the same name and populate it with content to be passed to the parent, like `{% block title %}Articles for {{ year }}{% endblock %}`. For example,"
   ]
  },
  {
   "cell_type": "code",
   "execution_count": null,
   "metadata": {
    "vscode": {
     "languageId": "html"
    }
   },
   "outputs": [],
   "source": [
    "<!-- templates/base.html -->\n",
    "{% load static %}\n",
    "<html>\n",
    "<head>\n",
    "    {% block title %}{% endblock %}\n",
    "</head>\n",
    "<body></body>\n",
    "</html>\n",
    "\n",
    "<!-- templates/child.html -->\n",
    "{% extends \"base.html\" %}\n",
    "\n",
    "{% block title %}\n",
    "<title>Articles for {{ year }}</title>\n",
    "{% endblock %}"
   ]
  }
 ],
 "metadata": {
  "kernelspec": {
   "display_name": "practice-mD3pbIW8",
   "language": "python",
   "name": "python3"
  },
  "language_info": {
   "codemirror_mode": {
    "name": "ipython",
    "version": 3
   },
   "file_extension": ".py",
   "mimetype": "text/x-python",
   "name": "python",
   "nbconvert_exporter": "python",
   "pygments_lexer": "ipython3",
   "version": "3.12.0"
  }
 },
 "nbformat": 4,
 "nbformat_minor": 2
}
