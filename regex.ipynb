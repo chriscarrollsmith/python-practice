{
 "cells": [
  {
   "cell_type": "markdown",
   "metadata": {},
   "source": [
    "# Regex tricks\n",
    "\n",
    "## `re.escape`\n",
    "\n",
    "Say we want to programmatically create regex patterns to strip comments for different programming languages. We want to supply the comment marker(s) as a function argument, depending on the language.\n",
    "\n",
    "One barrier to this is that certain characters have special meaning in regex, and we need to make sure they are interpreted correctly when we construct the regex pattern from our argument variable.\n",
    "\n",
    "Normally, when defining a regex pattern, I define a raw string literal like `r\"$\"`. This ensures that special characters like the dollar sign are interpreted according to the rules of regex and not according to the rules of Python. But how do we do this with a variable that contains a regular Python string?\n",
    "\n",
    "The answer is to use the `escape` function from Python's `re` module, which lets us interpret any Python string as a raw string literal, the same as if it were prefixed with `r`. Here's how we could write our function:"
   ]
  },
  {
   "cell_type": "code",
   "execution_count": 24,
   "metadata": {},
   "outputs": [
    {
     "data": {
      "text/plain": [
       "' a\\nc\\nd'"
      ]
     },
     "execution_count": 24,
     "metadata": {},
     "output_type": "execute_result"
    }
   ],
   "source": [
    "from re import sub, compile, escape\n",
    "\n",
    "def strip_comments(s, markers):\n",
    "    for m in markers:\n",
    "        pattern = compile(r\"\\s*\" + escape(m) + r\".*\")\n",
    "        s = sub(pattern, \"\", s)\n",
    "    return s\n",
    "\n",
    "strip_comments(\" a #b\\nc\\nd $e f g\", [\"#\", \"$\"])"
   ]
  }
 ],
 "metadata": {
  "kernelspec": {
   "display_name": ".venv",
   "language": "python",
   "name": "python3"
  },
  "language_info": {
   "codemirror_mode": {
    "name": "ipython",
    "version": 3
   },
   "file_extension": ".py",
   "mimetype": "text/x-python",
   "name": "python",
   "nbconvert_exporter": "python",
   "pygments_lexer": "ipython3",
   "version": "3.12.3"
  }
 },
 "nbformat": 4,
 "nbformat_minor": 2
}
