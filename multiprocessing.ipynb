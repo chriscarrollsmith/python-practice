{
 "cells": [
  {
   "cell_type": "markdown",
   "metadata": {},
   "source": [
    "# Threads, workers, forking, and shared state in Gunicorn\n",
    "\n",
    "## Forking in Gunicorn\n",
    "https://github.com/benoitc/gunicorn/issues/1391\n",
    "Every subprocess has to have its own database connection\n",
    "\n",
    "## Threads in Gunicorn\n",
    "\n",
    "## Workers in Gunicorn\n",
    "\n",
    "## Shared state in Gunicorn\n",
    "\n",
    "## Multiprocessing in Python\n",
    "\n",
    "### Manager class"
   ]
  },
  {
   "cell_type": "code",
   "execution_count": null,
   "metadata": {},
   "outputs": [],
   "source": []
  }
 ],
 "metadata": {
  "language_info": {
   "name": "python"
  }
 },
 "nbformat": 4,
 "nbformat_minor": 2
}
